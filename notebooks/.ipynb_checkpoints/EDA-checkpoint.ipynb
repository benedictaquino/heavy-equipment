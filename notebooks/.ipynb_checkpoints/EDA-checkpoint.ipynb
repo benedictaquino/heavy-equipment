{
 "cells": [
  {
   "cell_type": "markdown",
   "metadata": {},
   "source": [
    "# Regression Project\n",
    "-------------------------------------\n",
    "The goal of this project is to predict the sale price of a particular piece of heavy equipment at auction based on it's usage, equipment type, and configuration. The data is sourced from auction result postings and includes information on usage and equipment configurations."
   ]
  },
  {
   "cell_type": "code",
   "execution_count": 1,
   "metadata": {},
   "outputs": [],
   "source": [
    "%matplotlib inline\n",
    "%load_ext autoreload\n",
    "%autoreload 2"
   ]
  },
  {
   "cell_type": "code",
   "execution_count": 30,
   "metadata": {},
   "outputs": [],
   "source": [
    "import os\n",
    "import sys\n",
    "module_path = os.path.abspath(os.path.join(\"..\"))\n",
    "if module_path not in sys.path:\n",
    "    sys.path.append(module_path)\n",
    "\n",
    "import numpy as np\n",
    "import pandas as pd\n",
    "import matplotlib.pyplot as plt\n",
    "import seaborn as sns\n",
    "import statsmodels.api as sm\n",
    "import scipy.stats as st\n",
    "import pickle\n",
    "\n",
    "from sklearn.linear_model import LinearRegression\n",
    "from sklearn.model_selection import cross_val_score\n",
    "\n",
    "\n",
    "plt.style.use('ggplot')"
   ]
  },
  {
   "cell_type": "markdown",
   "metadata": {},
   "source": [
    "# Exploratory Data Analysis"
   ]
  },
  {
   "cell_type": "code",
   "execution_count": 3,
   "metadata": {},
   "outputs": [
    {
     "name": "stdout",
     "output_type": "stream",
     "text": [
      "<class 'pandas.core.frame.DataFrame'>\n",
      "RangeIndex: 401125 entries, 0 to 401124\n",
      "Data columns (total 53 columns):\n",
      "SalesID                     401125 non-null int64\n",
      "SalePrice                   401125 non-null int64\n",
      "MachineID                   401125 non-null int64\n",
      "ModelID                     401125 non-null int64\n",
      "datasource                  401125 non-null int64\n",
      "auctioneerID                380989 non-null float64\n",
      "YearMade                    401125 non-null int64\n",
      "MachineHoursCurrentMeter    142765 non-null float64\n",
      "UsageBand                   69639 non-null object\n",
      "saledate                    401125 non-null object\n",
      "fiModelDesc                 401125 non-null object\n",
      "fiBaseModel                 401125 non-null object\n",
      "fiSecondaryDesc             263934 non-null object\n",
      "fiModelSeries               56908 non-null object\n",
      "fiModelDescriptor           71919 non-null object\n",
      "ProductSize                 190350 non-null object\n",
      "fiProductClassDesc          401125 non-null object\n",
      "state                       401125 non-null object\n",
      "ProductGroup                401125 non-null object\n",
      "ProductGroupDesc            401125 non-null object\n",
      "Drive_System                104361 non-null object\n",
      "Enclosure                   400800 non-null object\n",
      "Forks                       192077 non-null object\n",
      "Pad_Type                    79134 non-null object\n",
      "Ride_Control                148606 non-null object\n",
      "Stick                       79134 non-null object\n",
      "Transmission                183230 non-null object\n",
      "Turbocharged                79134 non-null object\n",
      "Blade_Extension             25219 non-null object\n",
      "Blade_Width                 25219 non-null object\n",
      "Enclosure_Type              25219 non-null object\n",
      "Engine_Horsepower           25219 non-null object\n",
      "Hydraulics                  320570 non-null object\n",
      "Pushblock                   25219 non-null object\n",
      "Ripper                      104137 non-null object\n",
      "Scarifier                   25230 non-null object\n",
      "Tip_Control                 25219 non-null object\n",
      "Tire_Size                   94718 non-null object\n",
      "Coupler                     213952 non-null object\n",
      "Coupler_System              43458 non-null object\n",
      "Grouser_Tracks              43362 non-null object\n",
      "Hydraulics_Flow             43362 non-null object\n",
      "Track_Type                  99153 non-null object\n",
      "Undercarriage_Pad_Width     99872 non-null object\n",
      "Stick_Length                99218 non-null object\n",
      "Thumb                       99288 non-null object\n",
      "Pattern_Changer             99218 non-null object\n",
      "Grouser_Type                99153 non-null object\n",
      "Backhoe_Mounting            78672 non-null object\n",
      "Blade_Type                  79833 non-null object\n",
      "Travel_Controls             79834 non-null object\n",
      "Differential_Type           69411 non-null object\n",
      "Steering_Controls           69369 non-null object\n",
      "dtypes: float64(2), int64(6), object(45)\n",
      "memory usage: 162.2+ MB\n"
     ]
    },
    {
     "data": {
      "text/plain": [
       "None"
      ]
     },
     "metadata": {},
     "output_type": "display_data"
    },
    {
     "data": {
      "text/html": [
       "<div>\n",
       "<style scoped>\n",
       "    .dataframe tbody tr th:only-of-type {\n",
       "        vertical-align: middle;\n",
       "    }\n",
       "\n",
       "    .dataframe tbody tr th {\n",
       "        vertical-align: top;\n",
       "    }\n",
       "\n",
       "    .dataframe thead th {\n",
       "        text-align: right;\n",
       "    }\n",
       "</style>\n",
       "<table border=\"1\" class=\"dataframe\">\n",
       "  <thead>\n",
       "    <tr style=\"text-align: right;\">\n",
       "      <th></th>\n",
       "      <th>SalesID</th>\n",
       "      <th>SalePrice</th>\n",
       "      <th>MachineID</th>\n",
       "      <th>ModelID</th>\n",
       "      <th>datasource</th>\n",
       "      <th>auctioneerID</th>\n",
       "      <th>YearMade</th>\n",
       "      <th>MachineHoursCurrentMeter</th>\n",
       "      <th>UsageBand</th>\n",
       "      <th>saledate</th>\n",
       "      <th>...</th>\n",
       "      <th>Undercarriage_Pad_Width</th>\n",
       "      <th>Stick_Length</th>\n",
       "      <th>Thumb</th>\n",
       "      <th>Pattern_Changer</th>\n",
       "      <th>Grouser_Type</th>\n",
       "      <th>Backhoe_Mounting</th>\n",
       "      <th>Blade_Type</th>\n",
       "      <th>Travel_Controls</th>\n",
       "      <th>Differential_Type</th>\n",
       "      <th>Steering_Controls</th>\n",
       "    </tr>\n",
       "  </thead>\n",
       "  <tbody>\n",
       "    <tr>\n",
       "      <th>0</th>\n",
       "      <td>1139246</td>\n",
       "      <td>66000</td>\n",
       "      <td>999089</td>\n",
       "      <td>3157</td>\n",
       "      <td>121</td>\n",
       "      <td>3.0</td>\n",
       "      <td>2004</td>\n",
       "      <td>68.0</td>\n",
       "      <td>Low</td>\n",
       "      <td>11/16/2006 0:00</td>\n",
       "      <td>...</td>\n",
       "      <td>NaN</td>\n",
       "      <td>NaN</td>\n",
       "      <td>NaN</td>\n",
       "      <td>NaN</td>\n",
       "      <td>NaN</td>\n",
       "      <td>NaN</td>\n",
       "      <td>NaN</td>\n",
       "      <td>NaN</td>\n",
       "      <td>Standard</td>\n",
       "      <td>Conventional</td>\n",
       "    </tr>\n",
       "    <tr>\n",
       "      <th>1</th>\n",
       "      <td>1139248</td>\n",
       "      <td>57000</td>\n",
       "      <td>117657</td>\n",
       "      <td>77</td>\n",
       "      <td>121</td>\n",
       "      <td>3.0</td>\n",
       "      <td>1996</td>\n",
       "      <td>4640.0</td>\n",
       "      <td>Low</td>\n",
       "      <td>3/26/2004 0:00</td>\n",
       "      <td>...</td>\n",
       "      <td>NaN</td>\n",
       "      <td>NaN</td>\n",
       "      <td>NaN</td>\n",
       "      <td>NaN</td>\n",
       "      <td>NaN</td>\n",
       "      <td>NaN</td>\n",
       "      <td>NaN</td>\n",
       "      <td>NaN</td>\n",
       "      <td>Standard</td>\n",
       "      <td>Conventional</td>\n",
       "    </tr>\n",
       "    <tr>\n",
       "      <th>2</th>\n",
       "      <td>1139249</td>\n",
       "      <td>10000</td>\n",
       "      <td>434808</td>\n",
       "      <td>7009</td>\n",
       "      <td>121</td>\n",
       "      <td>3.0</td>\n",
       "      <td>2001</td>\n",
       "      <td>2838.0</td>\n",
       "      <td>High</td>\n",
       "      <td>2/26/2004 0:00</td>\n",
       "      <td>...</td>\n",
       "      <td>NaN</td>\n",
       "      <td>NaN</td>\n",
       "      <td>NaN</td>\n",
       "      <td>NaN</td>\n",
       "      <td>NaN</td>\n",
       "      <td>NaN</td>\n",
       "      <td>NaN</td>\n",
       "      <td>NaN</td>\n",
       "      <td>NaN</td>\n",
       "      <td>NaN</td>\n",
       "    </tr>\n",
       "    <tr>\n",
       "      <th>3</th>\n",
       "      <td>1139251</td>\n",
       "      <td>38500</td>\n",
       "      <td>1026470</td>\n",
       "      <td>332</td>\n",
       "      <td>121</td>\n",
       "      <td>3.0</td>\n",
       "      <td>2001</td>\n",
       "      <td>3486.0</td>\n",
       "      <td>High</td>\n",
       "      <td>5/19/2011 0:00</td>\n",
       "      <td>...</td>\n",
       "      <td>NaN</td>\n",
       "      <td>NaN</td>\n",
       "      <td>NaN</td>\n",
       "      <td>NaN</td>\n",
       "      <td>NaN</td>\n",
       "      <td>NaN</td>\n",
       "      <td>NaN</td>\n",
       "      <td>NaN</td>\n",
       "      <td>NaN</td>\n",
       "      <td>NaN</td>\n",
       "    </tr>\n",
       "    <tr>\n",
       "      <th>4</th>\n",
       "      <td>1139253</td>\n",
       "      <td>11000</td>\n",
       "      <td>1057373</td>\n",
       "      <td>17311</td>\n",
       "      <td>121</td>\n",
       "      <td>3.0</td>\n",
       "      <td>2007</td>\n",
       "      <td>722.0</td>\n",
       "      <td>Medium</td>\n",
       "      <td>7/23/2009 0:00</td>\n",
       "      <td>...</td>\n",
       "      <td>NaN</td>\n",
       "      <td>NaN</td>\n",
       "      <td>NaN</td>\n",
       "      <td>NaN</td>\n",
       "      <td>NaN</td>\n",
       "      <td>NaN</td>\n",
       "      <td>NaN</td>\n",
       "      <td>NaN</td>\n",
       "      <td>NaN</td>\n",
       "      <td>NaN</td>\n",
       "    </tr>\n",
       "  </tbody>\n",
       "</table>\n",
       "<p>5 rows × 53 columns</p>\n",
       "</div>"
      ],
      "text/plain": [
       "   SalesID  SalePrice  MachineID  ModelID  datasource  auctioneerID  YearMade  \\\n",
       "0  1139246      66000     999089     3157         121           3.0      2004   \n",
       "1  1139248      57000     117657       77         121           3.0      1996   \n",
       "2  1139249      10000     434808     7009         121           3.0      2001   \n",
       "3  1139251      38500    1026470      332         121           3.0      2001   \n",
       "4  1139253      11000    1057373    17311         121           3.0      2007   \n",
       "\n",
       "   MachineHoursCurrentMeter UsageBand         saledate        ...         \\\n",
       "0                      68.0       Low  11/16/2006 0:00        ...          \n",
       "1                    4640.0       Low   3/26/2004 0:00        ...          \n",
       "2                    2838.0      High   2/26/2004 0:00        ...          \n",
       "3                    3486.0      High   5/19/2011 0:00        ...          \n",
       "4                     722.0    Medium   7/23/2009 0:00        ...          \n",
       "\n",
       "  Undercarriage_Pad_Width Stick_Length Thumb Pattern_Changer Grouser_Type  \\\n",
       "0                     NaN          NaN   NaN             NaN          NaN   \n",
       "1                     NaN          NaN   NaN             NaN          NaN   \n",
       "2                     NaN          NaN   NaN             NaN          NaN   \n",
       "3                     NaN          NaN   NaN             NaN          NaN   \n",
       "4                     NaN          NaN   NaN             NaN          NaN   \n",
       "\n",
       "  Backhoe_Mounting Blade_Type Travel_Controls Differential_Type  \\\n",
       "0              NaN        NaN             NaN          Standard   \n",
       "1              NaN        NaN             NaN          Standard   \n",
       "2              NaN        NaN             NaN               NaN   \n",
       "3              NaN        NaN             NaN               NaN   \n",
       "4              NaN        NaN             NaN               NaN   \n",
       "\n",
       "  Steering_Controls  \n",
       "0      Conventional  \n",
       "1      Conventional  \n",
       "2               NaN  \n",
       "3               NaN  \n",
       "4               NaN  \n",
       "\n",
       "[5 rows x 53 columns]"
      ]
     },
     "metadata": {},
     "output_type": "display_data"
    }
   ],
   "source": [
    "df = pd.read_csv('../data/Train.csv', low_memory=False)\n",
    "display(df.info())\n",
    "display(df.head())"
   ]
  },
  {
   "cell_type": "markdown",
   "metadata": {},
   "source": [
    "It looks like many columns are missing values, and some columns have mixed types. Recall that we aim to predict the sale price of a particular piece of heavy equipment based on its usage, equipment type, and configuration, so we first look at what features would be unknown prior to the auction and beyond the scope of this analysis.\n",
    "\n",
    "Prior to the auction we would not have `SalesID`, `SalePrice` (our target variable, duh), or `saledate`. Although saledate would not be known prior to the auction, we would be able to know the age of the machine by comparing `saledate` and `YearMade`, so we should consider engineering that feature before dropping `saledate`.\n",
    "\n",
    "Since we want to predict specifically based on usage, equipment type, and configuration, we can drop variables `datasource` and `auctioneerID`. \n",
    "\n",
    "The above features will be dropped prior to training the model.\n",
    "\n",
    "### Missing Data\n",
    "#### Mixed Data Types"
   ]
  },
  {
   "cell_type": "code",
   "execution_count": 4,
   "metadata": {},
   "outputs": [
    {
     "name": "stdout",
     "output_type": "stream",
     "text": [
      "<class 'pandas.core.frame.DataFrame'>\n",
      "RangeIndex: 401125 entries, 0 to 401124\n",
      "Data columns (total 4 columns):\n",
      "fiModelSeries      56908 non-null object\n",
      "Coupler_System     43458 non-null object\n",
      "Grouser_Tracks     43362 non-null object\n",
      "Hydraulics_Flow    43362 non-null object\n",
      "dtypes: object(4)\n",
      "memory usage: 12.2+ MB\n"
     ]
    }
   ],
   "source": [
    "df.iloc[:,[13,39,40,41]].info()"
   ]
  },
  {
   "cell_type": "code",
   "execution_count": 5,
   "metadata": {},
   "outputs": [
    {
     "data": {
      "text/plain": [
       "array([nan, 'II', '-6E', 'LC', '-5', 'III', '-1', '5', '-2', '1',\n",
       "       '#NAME?', '-3L', '-20', '3', '15', '-12', '6', '-6', 'V', '-3',\n",
       "       '-3PT', '-21', '-7', '7', '-3MC', 'IV', '-21A', '-3LC', '-5L',\n",
       "       '5N', '-5H', '-1L', '-8', '4', '2', '-18', '-15', '2T', '18', 'E',\n",
       "       '-3C', '-6B', '7.00E+00', 'A', '-3LK', 'ZTS', '-2N', '12', 'V-2',\n",
       "       'XT', '-7E', '-2C', '-8E', '-6LC', '-3H', '16', 'IV-2', '-6K',\n",
       "       '6F', '22', '3A', 'VHP', 'LGP', 'LT', '14FT', 'EX', '-6C', '3C',\n",
       "       '-7K', '17', '1970', '-2LC', 'M', 'D', 'ZX', 'LV', '-5LC', '-5E',\n",
       "       '6.00E+00', '-17', '-16', '-4', '8', '-7B', '-1C', '-11', 'L',\n",
       "       '-6A', 'LL', 'G', 'WX', '-2A', '-5F', '-3M', 'D7', '7A', ' III',\n",
       "       'AWS', '2B', '20', '-5A', '-6LK', '-2E', 'VI', 'H', '-1B', '-3EO',\n",
       "       'TC', 'Elite', 'WT', 'XLT', 'SeriesII', '-1.50E+01', 'GALEO', '6L',\n",
       "       '6LE', '6LK', '21KomStatII', '21KomStat', '7L', 'Q', 'ZHS',\n",
       "       'FASTRRACK'], dtype=object)"
      ]
     },
     "metadata": {},
     "output_type": "display_data"
    },
    {
     "data": {
      "text/plain": [
       "fiModelSeries\n",
       " III             1\n",
       "#NAME?         396\n",
       "-1            4591\n",
       "-1.50E+01       10\n",
       "-11              6\n",
       "-12           1365\n",
       "-15            327\n",
       "-16             87\n",
       "-17            233\n",
       "-18            238\n",
       "-1B              1\n",
       "-1C             20\n",
       "-1L             97\n",
       "-2            3952\n",
       "-20            431\n",
       "-21            619\n",
       "-21A            10\n",
       "-2A              2\n",
       "-2C             65\n",
       "-2E              2\n",
       "-2LC             1\n",
       "-2N            131\n",
       "-3            2571\n",
       "-3C              3\n",
       "-3EO             7\n",
       "-3H             27\n",
       "-3L            209\n",
       "-3LC           463\n",
       "-3LK            40\n",
       "-3M              1\n",
       "             ...  \n",
       "Elite            1\n",
       "FASTRRACK        1\n",
       "G                2\n",
       "GALEO           15\n",
       "H                1\n",
       "II           13202\n",
       "III           5238\n",
       "IV             618\n",
       "IV-2            52\n",
       "L               20\n",
       "LC            8936\n",
       "LGP              1\n",
       "LL               1\n",
       "LT              24\n",
       "LV               4\n",
       "M               12\n",
       "Q                1\n",
       "SeriesII         3\n",
       "TC               4\n",
       "V              398\n",
       "V-2             18\n",
       "VHP             11\n",
       "VI               1\n",
       "WT               1\n",
       "WX              13\n",
       "XLT              2\n",
       "XT              64\n",
       "ZHS              1\n",
       "ZTS             83\n",
       "ZX               4\n",
       "Name: fiModelSeries, Length: 122, dtype: int64"
      ]
     },
     "metadata": {},
     "output_type": "display_data"
    }
   ],
   "source": [
    "display(df['fiModelSeries'].unique())\n",
    "display(df.groupby('fiModelSeries')['fiModelSeries'].count())"
   ]
  },
  {
   "cell_type": "markdown",
   "metadata": {},
   "source": [
    "For some reason this model information is not available for many data points. Further inspection of the rest of the columns that are descriptive of the model may help inform how to handle this column."
   ]
  },
  {
   "cell_type": "code",
   "execution_count": 6,
   "metadata": {},
   "outputs": [
    {
     "data": {
      "text/plain": [
       "array([nan, 'None or Unspecified', 'Yes'], dtype=object)"
      ]
     },
     "metadata": {},
     "output_type": "display_data"
    },
    {
     "data": {
      "text/plain": [
       "Coupler_System\n",
       "None or Unspecified    40430\n",
       "Yes                     3028\n",
       "Name: Coupler_System, dtype: int64"
      ]
     },
     "metadata": {},
     "output_type": "display_data"
    }
   ],
   "source": [
    "display(df['Coupler_System'].unique())\n",
    "display(df.groupby('Coupler_System')['Coupler_System'].count())"
   ]
  },
  {
   "cell_type": "code",
   "execution_count": 7,
   "metadata": {},
   "outputs": [
    {
     "data": {
      "text/plain": [
       "array([nan, 'None or Unspecified', 'Yes'], dtype=object)"
      ]
     },
     "metadata": {},
     "output_type": "display_data"
    },
    {
     "data": {
      "text/plain": [
       "Grouser_Tracks\n",
       "None or Unspecified    40515\n",
       "Yes                     2847\n",
       "Name: Grouser_Tracks, dtype: int64"
      ]
     },
     "metadata": {},
     "output_type": "display_data"
    }
   ],
   "source": [
    "display(df['Grouser_Tracks'].unique())\n",
    "display(df.groupby('Grouser_Tracks')['Grouser_Tracks'].count())"
   ]
  },
  {
   "cell_type": "code",
   "execution_count": 8,
   "metadata": {},
   "outputs": [
    {
     "data": {
      "text/plain": [
       "array([nan, 'Standard', 'High Flow', 'None or Unspecified'], dtype=object)"
      ]
     },
     "metadata": {},
     "output_type": "display_data"
    },
    {
     "data": {
      "text/plain": [
       "Hydraulics_Flow\n",
       "High Flow                553\n",
       "None or Unspecified       25\n",
       "Standard               42784\n",
       "Name: Hydraulics_Flow, dtype: int64"
      ]
     },
     "metadata": {},
     "output_type": "display_data"
    }
   ],
   "source": [
    "display(df['Hydraulics_Flow'].unique())\n",
    "display(df.groupby('Hydraulics_Flow')['Hydraulics_Flow'].count())"
   ]
  },
  {
   "cell_type": "markdown",
   "metadata": {},
   "source": [
    "It seems that for the last three columns it would be appropriate to fill in the NaN's with 'None or Unspecified'."
   ]
  },
  {
   "cell_type": "markdown",
   "metadata": {},
   "source": [
    "#### `auctioneerID`\n",
    "\n",
    "We already decided that `auctioneerID` was going to be dropped, so we ignore that for now.\n",
    "\n",
    "#### `MachineHoursCurrentMeter`"
   ]
  },
  {
   "cell_type": "code",
   "execution_count": 9,
   "metadata": {},
   "outputs": [
    {
     "name": "stdout",
     "output_type": "stream",
     "text": [
      "Missing Values: 258360 \n",
      "\n",
      "Unique Values: [   68.  4640.  2838. ...  8298. 35740. 12201.]\n"
     ]
    },
    {
     "data": {
      "text/plain": [
       "MachineHoursCurrentMeter\n",
       "0.0          73126\n",
       "2.0             18\n",
       "3.0             21\n",
       "4.0             35\n",
       "5.0             44\n",
       "6.0             20\n",
       "7.0             12\n",
       "8.0             18\n",
       "9.0             13\n",
       "10.0            33\n",
       "11.0            12\n",
       "12.0            12\n",
       "13.0            20\n",
       "14.0             9\n",
       "15.0            17\n",
       "16.0             8\n",
       "17.0             7\n",
       "18.0             8\n",
       "19.0             6\n",
       "20.0            10\n",
       "21.0             5\n",
       "22.0             7\n",
       "23.0            10\n",
       "24.0            41\n",
       "25.0             9\n",
       "26.0             8\n",
       "27.0             9\n",
       "28.0             8\n",
       "29.0             7\n",
       "30.0             8\n",
       "             ...  \n",
       "861300.0         1\n",
       "886200.0         1\n",
       "892700.0         1\n",
       "906100.0         1\n",
       "922100.0         1\n",
       "932000.0         1\n",
       "934400.0         1\n",
       "945300.0         1\n",
       "968400.0         1\n",
       "974400.0         1\n",
       "991000.0         1\n",
       "1064900.0        1\n",
       "1098000.0        1\n",
       "1112100.0        1\n",
       "1148500.0        1\n",
       "1189500.0        1\n",
       "1194900.0        1\n",
       "1203000.0        1\n",
       "1209500.0        1\n",
       "1228200.0        1\n",
       "1282700.0        1\n",
       "1429800.0        1\n",
       "1485900.0        1\n",
       "1602900.0        1\n",
       "1711700.0        1\n",
       "1728600.0        1\n",
       "1729600.0        1\n",
       "1857100.0        1\n",
       "2202400.0        1\n",
       "2483300.0        1\n",
       "Name: MachineHoursCurrentMeter, Length: 15152, dtype: int64"
      ]
     },
     "metadata": {},
     "output_type": "display_data"
    }
   ],
   "source": [
    "print('Missing Values:', df['MachineHoursCurrentMeter'].isna().sum(),\n",
    "      '\\n\\nUnique Values:', df['MachineHoursCurrentMeter'].unique())\n",
    "display(df.groupby('MachineHoursCurrentMeter')['MachineHoursCurrentMeter'].count())"
   ]
  },
  {
   "cell_type": "code",
   "execution_count": 10,
   "metadata": {},
   "outputs": [],
   "source": [
    "missing_machine_df = df[df['MachineHoursCurrentMeter'].isna()]\n",
    "has_machine_df = df[df['MachineHoursCurrentMeter'].isna()==False]"
   ]
  },
  {
   "cell_type": "code",
   "execution_count": 38,
   "metadata": {},
   "outputs": [
    {
     "data": {
      "text/plain": [
       "<matplotlib.axes._subplots.AxesSubplot at 0x7f4b13dbcd68>"
      ]
     },
     "execution_count": 38,
     "metadata": {},
     "output_type": "execute_result"
    },
    {
     "data": {
      "image/png": "[encoded data removed]",
      "text/plain": [
       "<Figure size 1080x720 with 1 Axes>"
      ]
     },
     "metadata": {},
     "output_type": "display_data"
    }
   ],
   "source": [
    "plt.figure(figsize=(15,10))\n",
    "sns.scatterplot(x='MachineHoursCurrentMeter', y='SalePrice', data=has_machine_df);"
   ]
  },
  {
   "cell_type": "code",
   "execution_count": 34,
   "metadata": {},
   "outputs": [
    {
     "data": {
      "text/plain": [
       "LeveneResult(statistic=1621.940012027389, pvalue=0.0)"
      ]
     },
     "execution_count": 34,
     "metadata": {},
     "output_type": "execute_result"
    }
   ],
   "source": [
    "st.levene(missing_machine_df['SalePrice'], has_machine_df['SalePrice'])"
   ]
  },
  {
   "cell_type": "code",
   "execution_count": 37,
   "metadata": {},
   "outputs": [
    {
     "data": {
      "text/plain": [
       "Ttest_indResult(statistic=49.94917194561435, pvalue=0.0)"
      ]
     },
     "execution_count": 37,
     "metadata": {},
     "output_type": "execute_result"
    }
   ],
   "source": [
    "st.ttest_ind(has_machine_df['SalePrice'], missing_machine_df['SalePrice'], equal_var=False)"
   ]
  },
  {
   "cell_type": "code",
   "execution_count": 67,
   "metadata": {},
   "outputs": [
    {
     "data": {
      "image/png": "[encoded data removed]",
      "text/plain": [
       "<Figure size 864x576 with 1 Axes>"
      ]
     },
     "metadata": {},
     "output_type": "display_data"
    }
   ],
   "source": [
    "plt.figure(figsize=(12,8));\n",
    "plt.bar(x = ['Has MachineHoursCurrentMeter', 'Missing MachineHoursCurrentMeter'], \n",
    "        height=[has_machine_df['SalePrice'].mean(), missing_machine_df['SalePrice'].mean()]\n",
    "       );"
   ]
  },
  {
   "cell_type": "markdown",
   "metadata": {},
   "source": [
    "So it does not look like `MachineHoursCurrentMeter` has a linear relationship with `SalePrice`, but the equipment with the missing feature appears to have a lower mean, which is supported by the t-test."
   ]
  },
  {
   "cell_type": "markdown",
   "metadata": {},
   "source": [
    "#### `UsageBand`"
   ]
  },
  {
   "cell_type": "code",
   "execution_count": 16,
   "metadata": {},
   "outputs": [
    {
     "name": "stdout",
     "output_type": "stream",
     "text": [
      "Missing Values: 331486 \n",
      "\n",
      "Unique Values: ['Low' 'High' 'Medium' nan]\n"
     ]
    },
    {
     "data": {
      "text/plain": [
       "UsageBand\n",
       "High      12034\n",
       "Low       23620\n",
       "Medium    33985\n",
       "Name: UsageBand, dtype: int64"
      ]
     },
     "metadata": {},
     "output_type": "display_data"
    }
   ],
   "source": [
    "print('Missing Values:', df['UsageBand'].isna().sum(),\n",
    "      '\\n\\nUnique Values:', df['UsageBand'].unique())\n",
    "display(df.groupby('UsageBand')['UsageBand'].count())"
   ]
  },
  {
   "cell_type": "markdown",
   "metadata": {},
   "source": [
    "Intuition and a little bit of research indicates that this feature has to do with what radio frequency band the equipment operates on. I believe it is suitable to fill the NaN's with 'None or Unspecified' in this case."
   ]
  },
  {
   "cell_type": "markdown",
   "metadata": {},
   "source": [
    "#### `fiSecondaryDesc`"
   ]
  },
  {
   "cell_type": "code",
   "execution_count": 17,
   "metadata": {},
   "outputs": [
    {
     "name": "stdout",
     "output_type": "stream",
     "text": [
      "Missing Values: 137191 \n",
      "\n",
      "Unique Values: ['D' 'F' nan 'G' 'E' 'HAG' 'B' 'NX' 'SUPER K' 'STD' 'BL' 'Z' 'C' 'XT' 'A'\n",
      " 'H' 'MR' 'PT' 'L' 'M' 'J' 'SE' 'SXT' 'HD' 'LC' 'SUPER M' 'LX' 'SUPER L'\n",
      " 'LE' 'K' 'S' 'R' 'P' 'SG' 'US' 'UU' 'WX' 'PX' 'N' 'ZTM' 'SUPER E' 'XL'\n",
      " 'MXT' 'EX' '-2' 'LCM' 'GT' 'TM' 'HZ' 'AX' 'DXT' '3' 'SR' '7' 'ZTS'\n",
      " 'B     ' 'T' 'UR' '-3' 'V' 'ZT' '1' 'SUPER M PLUS' 'BZD' 'DZ' 'WD' 'LGP'\n",
      " 'SRLC' 'CH' 'CS' 'M      ' 'ZHS G' 'Q' 'MRX' 'FR' 'UNA' 'R-2' 'PS' 'AG'\n",
      " 'URG' 'NE' 'U' '2' 'SB' 'TX' 'TTL' 'JX' 'LT' 'MSR SPIN ACE' 'HF' 'HDSL'\n",
      " 'LCD' 'X' 'LS' 'EST' 'LR' 'TC' 'BLGP' 'USR' 'RC' 'SJ' 'ZF' 'SUPER LE'\n",
      " 'MT' 'SUPER R' 'C      ' 'BEC' 'DC' 'CE' 'AB' 'MU' 'USRK' 'W' '-7' 'SL'\n",
      " 'SU' '0.7' 'THF' 'ZX' 'NL' 'CX' 'SRDZ' 'H90' 'AW' 'SP' 'EL' 'PL' '#NAME?'\n",
      " 'ESS' 'CM' 'CL' 'EW' 'ZHS' 'CR' 'CKB' 'CK' 'DX' 'SX' 'HL' 'HDS' 'DT'\n",
      " 'LCH' '5' 'H      ' 'SUPER' 'IV' 'XP' 'LD' 'LC7A' 'SF' 'PG' 'SPIN ACE'\n",
      " 'HX' 'EG' 'HLGP' 'WT' 'XLT' 'MSR' 'BLGPPS' 'AA' 'BZ' 'TP' 'CLR' 'MC'\n",
      " 'HLS' 'DL' 'USBL' 'LCLR' 'LC7LR' 'NC' '-5' '-5L' 'PTC' '-6'\n",
      " ' MSR SPIN ACE' 'NLC']\n"
     ]
    },
    {
     "data": {
      "text/plain": [
       "fiSecondaryDesc\n",
       " MSR SPIN ACE        1\n",
       "#NAME?              10\n",
       "-2                  21\n",
       "-3                   5\n",
       "-5                   7\n",
       "-5L                  7\n",
       "-6                   1\n",
       "-7                   2\n",
       "0.7                  8\n",
       "1                    7\n",
       "2                    3\n",
       "3                  125\n",
       "5                    1\n",
       "7                  112\n",
       "A                 5504\n",
       "AA                   6\n",
       "AB                   4\n",
       "AG                  26\n",
       "AW                   7\n",
       "AX                  94\n",
       "B                39203\n",
       "B                   48\n",
       "BEC                  7\n",
       "BL                 562\n",
       "BLGP                 4\n",
       "BLGPPS               1\n",
       "BZ                   6\n",
       "BZD                 16\n",
       "C                43235\n",
       "C                   10\n",
       "                 ...  \n",
       "TP                   4\n",
       "TTL                  1\n",
       "TX                  27\n",
       "U                  168\n",
       "UNA                  3\n",
       "UR                 820\n",
       "URG                456\n",
       "US                 838\n",
       "USBL                 1\n",
       "USR                 69\n",
       "USRK                 3\n",
       "UU                1315\n",
       "V                   23\n",
       "W                   49\n",
       "WD                  95\n",
       "WT                   7\n",
       "WX                  14\n",
       "X                   15\n",
       "XL                  12\n",
       "XLT                 14\n",
       "XP                   2\n",
       "XT                2111\n",
       "Z                 1740\n",
       "ZF                  50\n",
       "ZHS                 47\n",
       "ZHS G                9\n",
       "ZT                   3\n",
       "ZTM                  3\n",
       "ZTS                395\n",
       "ZX                  23\n",
       "Name: fiSecondaryDesc, Length: 175, dtype: int64"
      ]
     },
     "metadata": {},
     "output_type": "display_data"
    }
   ],
   "source": [
    "print('Missing Values:', df['fiSecondaryDesc'].isna().sum(),\n",
    "      '\\n\\nUnique Values:', df['fiSecondaryDesc'].unique())\n",
    "display(df.groupby('fiSecondaryDesc')['fiSecondaryDesc'].count())"
   ]
  },
  {
   "cell_type": "markdown",
   "metadata": {},
   "source": [
    "#### `fiModelDescriptor`"
   ]
  },
  {
   "cell_type": "code",
   "execution_count": 18,
   "metadata": {},
   "outputs": [
    {
     "name": "stdout",
     "output_type": "stream",
     "text": [
      "Missing Values: 329206 \n",
      "\n",
      "Unique Values: [nan 'LC' '6' 'L' 'LT' 'CR' 'SB' 'XL' 'LGP' 'VHP' '7' 'Z' '2.00E+00' 'MC'\n",
      " 'H' 'E' '3' 'LK' '5' 'K' '8' 'HT' 'LX' 'XLT' 'XW' 'HSD' '2' 'XR' 'TC'\n",
      " 'LCR' 'TLB' 'WT' 'TURBO' 'U' '4WD' 'XT' 'LRC' 'ZTS' 'RTS' 'TP' 'LE' 'LRR'\n",
      " 'SA' '3C' 'SR' 'XP' '1' 'BE' '3NO' 'CRSB' 'N' 'SSR' 'DHP' 'LM' ' SUPER'\n",
      " 'KA' 'H5' 'II' 'MH' 'P' 'LU' 'DT' 'XTV' 'LR' 'ZX' 'LL' 'V' 'DELUXE'\n",
      " 'USLC' 'SU' 'SRDZ' 'C' 'PRO' 'PLUS' 'SITEMASTER' 'DINGO' '3.00E+00'\n",
      " ' XLT' 'LN' 'AE0' 'SERIES3' '7.00E+00' 'ESL' 'A' 'G' 'B' 'DLL' 'CK'\n",
      " 'NSUC' 'LS' 'SLGP' 'RR' 'WLT' 'LCRTS' 'X' 'LCH' 'T' 'NLC' 'SM' 'SE' 'TM'\n",
      " 'SRLC' 'CUSTOM' 'HD' 'DW' 'LC8' ' LGP' 'TK' 'HF' 'SUPER K' 'IV' ' XT'\n",
      " 'IT' 'XLVP' 'LGPVP' 'K5' '3L' '7A' 'XD' 'DA' 'Y' 'S' 'M' '6K' 'LITRONIC'\n",
      " 'KBNA' ' 14FT' '2N' 'III' 'ME' 'High Lift' 'HighLift' 'VHP/AWD' 'K3'\n",
      " '4x4x4' ' ZX' '(BLADE RUNNER)' 'AVANCE' 'GALEO' 'LongReach']\n"
     ]
    },
    {
     "data": {
      "text/plain": [
       "fiModelDescriptor\n",
       " 14FT                5\n",
       " LGP                 8\n",
       " SUPER               7\n",
       " XLT                 3\n",
       " XT                  2\n",
       " ZX                  2\n",
       "(BLADE RUNNER)       4\n",
       "1                   59\n",
       "2                  528\n",
       "2.00E+00            38\n",
       "2N                   4\n",
       "3                 1887\n",
       "3.00E+00            32\n",
       "3C                  49\n",
       "3L                   1\n",
       "3NO                 42\n",
       "4WD                 87\n",
       "4x4x4                1\n",
       "5                 2246\n",
       "6                 2885\n",
       "6K                   2\n",
       "7                  918\n",
       "7.00E+00             6\n",
       "7A                   4\n",
       "8                  280\n",
       "A                  300\n",
       "AE0                  1\n",
       "AVANCE              11\n",
       "B                    3\n",
       "BE                  11\n",
       "                  ... \n",
       "SU                  34\n",
       "SUPER K              2\n",
       "T                    1\n",
       "TC                 186\n",
       "TK                   1\n",
       "TLB                 47\n",
       "TM                  10\n",
       "TP                  16\n",
       "TURBO                2\n",
       "U                  275\n",
       "USLC                 1\n",
       "V                    7\n",
       "VHP                 98\n",
       "VHP/AWD              1\n",
       "WLT                 54\n",
       "WT                 211\n",
       "X                    3\n",
       "XD                   1\n",
       "XL                6434\n",
       "XLT                257\n",
       "XLVP                 1\n",
       "XP                  11\n",
       "XR                  53\n",
       "XT                 232\n",
       "XTV                  6\n",
       "XW                 137\n",
       "Y                    9\n",
       "Z                  500\n",
       "ZTS                387\n",
       "ZX                  85\n",
       "Name: fiModelDescriptor, Length: 139, dtype: int64"
      ]
     },
     "metadata": {},
     "output_type": "display_data"
    }
   ],
   "source": [
    "print('Missing Values:', df['fiModelDescriptor'].isna().sum(),\n",
    "      '\\n\\nUnique Values:', df['fiModelDescriptor'].unique())\n",
    "display(df.groupby('fiModelDescriptor')['fiModelDescriptor'].count())"
   ]
  },
  {
   "cell_type": "markdown",
   "metadata": {},
   "source": [
    "The `fiModel` features appear to collectively describe the model of the equipment. I believe it would be best to simply combine these features into one long string."
   ]
  },
  {
   "cell_type": "code",
   "execution_count": 19,
   "metadata": {},
   "outputs": [],
   "source": [
    "df['fiModel'] = df['fiModelDesc'] + '-' +\\\n",
    "                df['fiBaseModel'] + '-' + \\\n",
    "                df['fiSecondaryDesc'].fillna('_') + '-' + \\\n",
    "                df['fiModelSeries'].fillna('').astype(str) + '-' + \\\n",
    "                df['fiModelDescriptor'].fillna('')"
   ]
  },
  {
   "cell_type": "code",
   "execution_count": 20,
   "metadata": {},
   "outputs": [
    {
     "data": {
      "text/plain": [
       "401125"
      ]
     },
     "execution_count": 20,
     "metadata": {},
     "output_type": "execute_result"
    }
   ],
   "source": [
    "df['fiModel'].size"
   ]
  },
  {
   "cell_type": "markdown",
   "metadata": {},
   "source": [
    "Now there are 5018 unique model types."
   ]
  },
  {
   "cell_type": "markdown",
   "metadata": {},
   "source": [
    "#### `ProductSize`"
   ]
  },
  {
   "cell_type": "code",
   "execution_count": 21,
   "metadata": {},
   "outputs": [
    {
     "name": "stdout",
     "output_type": "stream",
     "text": [
      "Missing Values: 210775 \n",
      "\n",
      "Unique Values: [nan 'Medium' 'Small' 'Large / Medium' 'Mini' 'Large' 'Compact']\n"
     ]
    },
    {
     "data": {
      "text/plain": [
       "ProductSize\n",
       "Compact            6089\n",
       "Large             20975\n",
       "Large / Medium    49678\n",
       "Medium            62274\n",
       "Mini              24840\n",
       "Small             26494\n",
       "Name: ProductSize, dtype: int64"
      ]
     },
     "metadata": {},
     "output_type": "display_data"
    }
   ],
   "source": [
    "print('Missing Values:', df['ProductSize'].isna().sum(),\n",
    "      '\\n\\nUnique Values:', df['ProductSize'].unique())\n",
    "display(df.groupby('ProductSize')['ProductSize'].count())"
   ]
  },
  {
   "cell_type": "code",
   "execution_count": 22,
   "metadata": {},
   "outputs": [
    {
     "data": {
      "text/plain": [
       "5086"
      ]
     },
     "execution_count": 22,
     "metadata": {},
     "output_type": "execute_result"
    }
   ],
   "source": [
    "(df['fiModel']+df['ProductSize'].fillna('-')).unique().size"
   ]
  },
  {
   "cell_type": "markdown",
   "metadata": {},
   "source": [
    "Some of the models we have match to multiple `ProductSize` values. So, we can use our engineered `fiModel` feature to see if any of these missing values can be filled."
   ]
  },
  {
   "cell_type": "code",
   "execution_count": 23,
   "metadata": {},
   "outputs": [
    {
     "data": {
      "text/plain": [
       "fiModel\n",
       "120-120-_--      [Small, -, Large / Medium]\n",
       "125-125-_--     [Large / Medium, Medium, -]\n",
       "125B-125-B--       [Medium, Large / Medium]\n",
       "125C-125-C--       [Medium, Large / Medium]\n",
       "160-160-_--         [Large / Medium, Small]\n",
       "Name: ProductSize, dtype: object"
      ]
     },
     "execution_count": 23,
     "metadata": {},
     "output_type": "execute_result"
    }
   ],
   "source": [
    "grouped = df.fillna('-').groupby('fiModel')\n",
    "grouped['ProductSize'].unique()[(grouped['ProductSize'].nunique() != 1).values].head()"
   ]
  },
  {
   "cell_type": "markdown",
   "metadata": {},
   "source": [
    "Using our engineered `fiModel` may be unreliable, so we try the same with `ModelID`."
   ]
  },
  {
   "cell_type": "code",
   "execution_count": 24,
   "metadata": {},
   "outputs": [
    {
     "data": {
      "text/plain": [
       "Series([], Name: ProductSize, dtype: object)"
      ]
     },
     "execution_count": 24,
     "metadata": {},
     "output_type": "execute_result"
    }
   ],
   "source": [
    "grouped = df.fillna('-').groupby('ModelID')\n",
    "grouped['ProductSize'].unique()[(grouped['ProductSize'].nunique() != 1).values].head()"
   ]
  },
  {
   "cell_type": "markdown",
   "metadata": {},
   "source": [
    "There appears to be a discrepancy between `ModelID` and our engineered `fiModel` feature."
   ]
  },
  {
   "cell_type": "code",
   "execution_count": 25,
   "metadata": {},
   "outputs": [
    {
     "data": {
      "text/plain": [
       "fiModel\n",
       "100C-100-C--      [1973, 1974, 1975, 1977, 1978, 1979, 1000]\n",
       "1066-1066-_--     [1973, 1975, 1970, 1971, 1000, 1972, 1977]\n",
       "1080-1080-_--     [1984, 1983, 1985, 1986, 1000, 1987, 1988]\n",
       "1080B-1080-B--                [1988, 1986, 1985, 1987, 1000]\n",
       "1088-1088-_--           [1989, 1990, 1000, 1991, 1992, 1988]\n",
       "Name: YearMade, dtype: object"
      ]
     },
     "execution_count": 25,
     "metadata": {},
     "output_type": "execute_result"
    }
   ],
   "source": [
    "grouped = df.fillna('-').groupby('fiModel')\n",
    "grouped['YearMade'].unique()[(grouped['YearMade'].nunique() != 1).values].head()"
   ]
  },
  {
   "cell_type": "markdown",
   "metadata": {},
   "source": [
    "So now we see that some `YearMade` values are 1000, which is problematic, but I want to see if how `ModelID` and `YearMade` line up."
   ]
  },
  {
   "cell_type": "code",
   "execution_count": 26,
   "metadata": {},
   "outputs": [],
   "source": [
    "grouped = df.fillna('-').groupby('ModelID')\n",
    "year_ = grouped['YearMade'].unique()[(grouped['YearMade'].nunique() != 1).values]"
   ]
  },
  {
   "cell_type": "markdown",
   "metadata": {},
   "source": [
    "I believe the best course of action is to use the mode by `ModelID` to fill the missing gaps in the above columns and `YearMade`."
   ]
  },
  {
   "cell_type": "markdown",
   "metadata": {},
   "source": [
    "#### `YearMade`"
   ]
  },
  {
   "cell_type": "code",
   "execution_count": 27,
   "metadata": {},
   "outputs": [],
   "source": [
    "year_1000_df = df[df['YearMade'] != 1000]\n",
    "grouped = year_1000_df.groupby('ModelID')\n",
    "year_grouped = grouped['YearMade'].value_counts()\n",
    "year_dict = {}\n",
    "\n",
    "for model in year_grouped.index.levels[0]:\n",
    "    if year_grouped[model].idxmax() != 1000:\n",
    "        year_dict[model] = year_grouped[model].idxmax()"
   ]
  },
  {
   "cell_type": "code",
   "execution_count": 28,
   "metadata": {
    "scrolled": false
   },
   "outputs": [],
   "source": [
    "with open('../data/year_dict.pkl', 'wb') as f:\n",
    "    pickle.dump(year_dict, f)"
   ]
  },
  {
   "cell_type": "code",
   "execution_count": 29,
   "metadata": {},
   "outputs": [
    {
     "data": {
      "text/plain": [
       "4774"
      ]
     },
     "execution_count": 29,
     "metadata": {},
     "output_type": "execute_result"
    }
   ],
   "source": [
    "len(year_dict.keys())"
   ]
  },
  {
   "cell_type": "markdown",
   "metadata": {},
   "source": [
    "#### `Drive_System`"
   ]
  },
  {
   "cell_type": "markdown",
   "metadata": {},
   "source": [
    "#### `Enclosure`"
   ]
  },
  {
   "cell_type": "markdown",
   "metadata": {},
   "source": [
    "#### `Forks`"
   ]
  },
  {
   "cell_type": "markdown",
   "metadata": {},
   "source": [
    "#### `Pad_Type`"
   ]
  },
  {
   "cell_type": "markdown",
   "metadata": {},
   "source": [
    "#### `Ride_Control`"
   ]
  },
  {
   "cell_type": "markdown",
   "metadata": {},
   "source": [
    "#### `Stick`"
   ]
  },
  {
   "cell_type": "markdown",
   "metadata": {},
   "source": [
    "#### `Transmission`"
   ]
  },
  {
   "cell_type": "markdown",
   "metadata": {},
   "source": [
    "#### `Turbocharged`"
   ]
  },
  {
   "cell_type": "markdown",
   "metadata": {},
   "source": [
    "#### `Blade_Extension`"
   ]
  },
  {
   "cell_type": "markdown",
   "metadata": {},
   "source": [
    "#### `Blade_Width`"
   ]
  },
  {
   "cell_type": "markdown",
   "metadata": {},
   "source": [
    "#### `Enclosure_Type`"
   ]
  },
  {
   "cell_type": "markdown",
   "metadata": {},
   "source": [
    "#### `Engine_Horsepower`"
   ]
  },
  {
   "cell_type": "markdown",
   "metadata": {},
   "source": [
    "#### `Hydraulics`"
   ]
  },
  {
   "cell_type": "markdown",
   "metadata": {},
   "source": [
    "#### `Pushblock`"
   ]
  },
  {
   "cell_type": "markdown",
   "metadata": {},
   "source": [
    "#### `Ripper`"
   ]
  },
  {
   "cell_type": "markdown",
   "metadata": {},
   "source": [
    "#### `Scarifier`"
   ]
  },
  {
   "cell_type": "markdown",
   "metadata": {},
   "source": [
    "#### `Tip_Control`"
   ]
  },
  {
   "cell_type": "markdown",
   "metadata": {},
   "source": [
    "#### `Tire_Size`"
   ]
  },
  {
   "cell_type": "markdown",
   "metadata": {},
   "source": [
    "#### `Coupler`"
   ]
  },
  {
   "cell_type": "markdown",
   "metadata": {},
   "source": [
    "#### `Track_Type`"
   ]
  },
  {
   "cell_type": "markdown",
   "metadata": {},
   "source": [
    "#### `Undercarriage_Pad_Width`"
   ]
  },
  {
   "cell_type": "markdown",
   "metadata": {},
   "source": [
    "#### `Stick_Length`"
   ]
  },
  {
   "cell_type": "markdown",
   "metadata": {},
   "source": [
    "#### `Thumb`"
   ]
  },
  {
   "cell_type": "markdown",
   "metadata": {},
   "source": [
    "#### `Pattern_Changer`"
   ]
  },
  {
   "cell_type": "markdown",
   "metadata": {},
   "source": [
    "#### `Grouser_Type`"
   ]
  },
  {
   "cell_type": "markdown",
   "metadata": {},
   "source": [
    "#### `Backhoe_Mounting`"
   ]
  },
  {
   "cell_type": "markdown",
   "metadata": {},
   "source": [
    "#### `Blade_Type`"
   ]
  },
  {
   "cell_type": "markdown",
   "metadata": {},
   "source": [
    "#### `Travel_Controls`"
   ]
  },
  {
   "cell_type": "markdown",
   "metadata": {},
   "source": [
    "#### `Differential_Type`"
   ]
  },
  {
   "cell_type": "markdown",
   "metadata": {},
   "source": [
    "#### `Steering_Controls`"
   ]
  }
 ],
 "metadata": {
  "author": {
   "name": "Benedict Aquino"
  },
  "kernelspec": {
   "display_name": "Python 3",
   "language": "python",
   "name": "python3"
  },
  "language_info": {
   "codemirror_mode": {
    "name": "ipython",
    "version": 3
   },
   "file_extension": ".py",
   "mimetype": "text/x-python",
   "name": "python",
   "nbconvert_exporter": "python",
   "pygments_lexer": "ipython3",
   "version": "3.6.6"
  }
 },
 "nbformat": 4,
 "nbformat_minor": 2
}
